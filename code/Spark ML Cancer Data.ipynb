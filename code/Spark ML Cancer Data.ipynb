{
 "cells": [
  {
   "cell_type": "markdown",
   "metadata": {},
   "source": [
    "### Introduction"
   ]
  },
  {
   "cell_type": "markdown",
   "metadata": {},
   "source": [
    "Using a well-known and clean dataset containing cancer diagnoses, I'll implement and evaluate a Random Forest Classifier using PySpark. \n",
    "\n",
    "It goes without saying that using Spark isn't a necessity for this dataset, but a flash challenge like this is a great place to implement a quick machine learning pipeline using Spark. "
   ]
  },
  {
   "cell_type": "markdown",
   "metadata": {},
   "source": [
    "### Imports, Spark Session etc"
   ]
  },
  {
   "cell_type": "code",
   "execution_count": 1,
   "metadata": {},
   "outputs": [],
   "source": [
    "import os, sys, pyspark\n",
    "from pyspark.sql import SparkSession\n",
    "import pandas as pd\n",
    "\n",
    "os.environ['PYSPARK_PYTHON'] = sys.executable\n",
    "os.environ['PYSPARK_DRIVER_PYTHON'] = sys.executable\n",
    "os.environ['SPARK_HOME'] = pyspark.__path__[0]"
   ]
  },
  {
   "cell_type": "code",
   "execution_count": 2,
   "metadata": {},
   "outputs": [],
   "source": [
    "#Set up SparkSession\n",
    "spark = SparkSession \\\n",
    "        .builder \\\n",
    "        .master('local[*]') \\\n",
    "        .appName(\"Cancer Data ML test\") \\\n",
    "        .getOrCreate()"
   ]
  },
  {
   "cell_type": "code",
   "execution_count": 3,
   "metadata": {},
   "outputs": [
    {
     "data": {
      "text/html": [
       "\n",
       "            <div>\n",
       "                <p><b>SparkSession - in-memory</b></p>\n",
       "                \n",
       "        <div>\n",
       "            <p><b>SparkContext</b></p>\n",
       "\n",
       "            <p><a href=\"http://DESKTOP-ADGEOAG.home:4041\">Spark UI</a></p>\n",
       "\n",
       "            <dl>\n",
       "              <dt>Version</dt>\n",
       "                <dd><code>v2.3.1</code></dd>\n",
       "              <dt>Master</dt>\n",
       "                <dd><code>local[*]</code></dd>\n",
       "              <dt>AppName</dt>\n",
       "                <dd><code>Cancer Data ML test</code></dd>\n",
       "            </dl>\n",
       "        </div>\n",
       "        \n",
       "            </div>\n",
       "        "
      ],
      "text/plain": [
       "<pyspark.sql.session.SparkSession at 0x15177cbc3c8>"
      ]
     },
     "execution_count": 3,
     "metadata": {},
     "output_type": "execute_result"
    }
   ],
   "source": [
    "spark"
   ]
  },
  {
   "cell_type": "code",
   "execution_count": 4,
   "metadata": {},
   "outputs": [
    {
     "name": "stdout",
     "output_type": "stream",
     "text": [
      "root\n",
      " |-- id: integer (nullable = true)\n",
      " |-- diagnosis: string (nullable = true)\n",
      " |-- radius_mean: double (nullable = true)\n",
      " |-- texture_mean: double (nullable = true)\n",
      " |-- perimeter_mean: double (nullable = true)\n",
      " |-- area_mean: double (nullable = true)\n",
      " |-- smoothness_mean: double (nullable = true)\n",
      " |-- compactness_mean: double (nullable = true)\n",
      " |-- concavity_mean: double (nullable = true)\n",
      " |-- concave points_mean: double (nullable = true)\n",
      " |-- symmetry_mean: double (nullable = true)\n",
      " |-- fractal_dimension_mean: double (nullable = true)\n",
      " |-- radius_se: double (nullable = true)\n",
      " |-- texture_se: double (nullable = true)\n",
      " |-- perimeter_se: double (nullable = true)\n",
      " |-- area_se: double (nullable = true)\n",
      " |-- smoothness_se: double (nullable = true)\n",
      " |-- compactness_se: double (nullable = true)\n",
      " |-- concavity_se: double (nullable = true)\n",
      " |-- concave points_se: double (nullable = true)\n",
      " |-- symmetry_se: double (nullable = true)\n",
      " |-- fractal_dimension_se: double (nullable = true)\n",
      " |-- radius_worst: double (nullable = true)\n",
      " |-- texture_worst: double (nullable = true)\n",
      " |-- perimeter_worst: double (nullable = true)\n",
      " |-- area_worst: double (nullable = true)\n",
      " |-- smoothness_worst: double (nullable = true)\n",
      " |-- compactness_worst: double (nullable = true)\n",
      " |-- concavity_worst: double (nullable = true)\n",
      " |-- concave points_worst: double (nullable = true)\n",
      " |-- symmetry_worst: double (nullable = true)\n",
      " |-- fractal_dimension_worst: double (nullable = true)\n",
      " |-- _c32: string (nullable = true)\n",
      "\n"
     ]
    }
   ],
   "source": [
    "#Read CSV and display schema\n",
    "cancer_df = spark.read.csv('../data/cancer_data.csv', header=True, inferSchema=True)\n",
    "\n",
    "cancer_df.printSchema()"
   ]
  },
  {
   "cell_type": "markdown",
   "metadata": {},
   "source": [
    "### Quick exploration"
   ]
  },
  {
   "cell_type": "code",
   "execution_count": 5,
   "metadata": {},
   "outputs": [
    {
     "data": {
      "text/plain": [
       "[Row(id=842302, diagnosis='M', radius_mean=17.99, texture_mean=10.38, perimeter_mean=122.8, area_mean=1001.0, smoothness_mean=0.1184, compactness_mean=0.2776, concavity_mean=0.3001, concave points_mean=0.1471, symmetry_mean=0.2419, fractal_dimension_mean=0.07871, radius_se=1.095, texture_se=0.9053, perimeter_se=8.589, area_se=153.4, smoothness_se=0.006399, compactness_se=0.04904, concavity_se=0.05373, concave points_se=0.01587, symmetry_se=0.03003, fractal_dimension_se=0.006193, radius_worst=25.38, texture_worst=17.33, perimeter_worst=184.6, area_worst=2019.0, smoothness_worst=0.1622, compactness_worst=0.6656, concavity_worst=0.7119, concave points_worst=0.2654, symmetry_worst=0.4601, fractal_dimension_worst=0.1189, _c32=None)]"
      ]
     },
     "execution_count": 5,
     "metadata": {},
     "output_type": "execute_result"
    }
   ],
   "source": [
    "#What does one entry look like? \n",
    "cancer_df.take(1)"
   ]
  },
  {
   "cell_type": "code",
   "execution_count": 6,
   "metadata": {},
   "outputs": [
    {
     "name": "stdout",
     "output_type": "stream",
     "text": [
      "+---------+-----+\n",
      "|diagnosis|count|\n",
      "+---------+-----+\n",
      "|        B|  357|\n",
      "|        M|  212|\n",
      "+---------+-----+\n",
      "\n"
     ]
    }
   ],
   "source": [
    "#How is our label distribution? \n",
    "cancer_df.groupBy('diagnosis').count().show()"
   ]
  },
  {
   "cell_type": "code",
   "execution_count": 7,
   "metadata": {
    "scrolled": true
   },
   "outputs": [
    {
     "data": {
      "text/html": [
       "<div>\n",
       "<style scoped>\n",
       "    .dataframe tbody tr th:only-of-type {\n",
       "        vertical-align: middle;\n",
       "    }\n",
       "\n",
       "    .dataframe tbody tr th {\n",
       "        vertical-align: top;\n",
       "    }\n",
       "\n",
       "    .dataframe thead th {\n",
       "        text-align: right;\n",
       "    }\n",
       "</style>\n",
       "<table border=\"1\" class=\"dataframe\">\n",
       "  <thead>\n",
       "    <tr style=\"text-align: right;\">\n",
       "      <th></th>\n",
       "      <th>0</th>\n",
       "      <th>1</th>\n",
       "      <th>2</th>\n",
       "      <th>3</th>\n",
       "      <th>4</th>\n",
       "    </tr>\n",
       "  </thead>\n",
       "  <tbody>\n",
       "    <tr>\n",
       "      <th>summary</th>\n",
       "      <td>count</td>\n",
       "      <td>mean</td>\n",
       "      <td>stddev</td>\n",
       "      <td>min</td>\n",
       "      <td>max</td>\n",
       "    </tr>\n",
       "    <tr>\n",
       "      <th>id</th>\n",
       "      <td>569</td>\n",
       "      <td>3.0371831432337433E7</td>\n",
       "      <td>1.2502058561222367E8</td>\n",
       "      <td>8670</td>\n",
       "      <td>911320502</td>\n",
       "    </tr>\n",
       "    <tr>\n",
       "      <th>diagnosis</th>\n",
       "      <td>569</td>\n",
       "      <td>None</td>\n",
       "      <td>None</td>\n",
       "      <td>B</td>\n",
       "      <td>M</td>\n",
       "    </tr>\n",
       "    <tr>\n",
       "      <th>radius_mean</th>\n",
       "      <td>569</td>\n",
       "      <td>14.127291739894563</td>\n",
       "      <td>3.5240488262120793</td>\n",
       "      <td>6.981</td>\n",
       "      <td>28.11</td>\n",
       "    </tr>\n",
       "    <tr>\n",
       "      <th>texture_mean</th>\n",
       "      <td>569</td>\n",
       "      <td>19.28964850615117</td>\n",
       "      <td>4.301035768166948</td>\n",
       "      <td>9.71</td>\n",
       "      <td>39.28</td>\n",
       "    </tr>\n",
       "    <tr>\n",
       "      <th>perimeter_mean</th>\n",
       "      <td>569</td>\n",
       "      <td>91.96903339191566</td>\n",
       "      <td>24.2989810387549</td>\n",
       "      <td>43.79</td>\n",
       "      <td>188.5</td>\n",
       "    </tr>\n",
       "    <tr>\n",
       "      <th>area_mean</th>\n",
       "      <td>569</td>\n",
       "      <td>654.8891036906857</td>\n",
       "      <td>351.9141291816529</td>\n",
       "      <td>143.5</td>\n",
       "      <td>2501.0</td>\n",
       "    </tr>\n",
       "    <tr>\n",
       "      <th>smoothness_mean</th>\n",
       "      <td>569</td>\n",
       "      <td>0.096360281195079</td>\n",
       "      <td>0.014064128137673616</td>\n",
       "      <td>0.05263</td>\n",
       "      <td>0.1634</td>\n",
       "    </tr>\n",
       "    <tr>\n",
       "      <th>compactness_mean</th>\n",
       "      <td>569</td>\n",
       "      <td>0.10434098418277686</td>\n",
       "      <td>0.0528127579325122</td>\n",
       "      <td>0.01938</td>\n",
       "      <td>0.3454</td>\n",
       "    </tr>\n",
       "    <tr>\n",
       "      <th>concavity_mean</th>\n",
       "      <td>569</td>\n",
       "      <td>0.08879931581722322</td>\n",
       "      <td>0.07971980870789354</td>\n",
       "      <td>0.0</td>\n",
       "      <td>0.4268</td>\n",
       "    </tr>\n",
       "    <tr>\n",
       "      <th>concave points_mean</th>\n",
       "      <td>569</td>\n",
       "      <td>0.048919145869947236</td>\n",
       "      <td>0.03880284485915361</td>\n",
       "      <td>0.0</td>\n",
       "      <td>0.2012</td>\n",
       "    </tr>\n",
       "    <tr>\n",
       "      <th>symmetry_mean</th>\n",
       "      <td>569</td>\n",
       "      <td>0.181161862917399</td>\n",
       "      <td>0.027414281336035712</td>\n",
       "      <td>0.106</td>\n",
       "      <td>0.304</td>\n",
       "    </tr>\n",
       "    <tr>\n",
       "      <th>fractal_dimension_mean</th>\n",
       "      <td>569</td>\n",
       "      <td>0.06279760984182778</td>\n",
       "      <td>0.007060362795084457</td>\n",
       "      <td>0.04996</td>\n",
       "      <td>0.09744</td>\n",
       "    </tr>\n",
       "    <tr>\n",
       "      <th>radius_se</th>\n",
       "      <td>569</td>\n",
       "      <td>0.4051720562390161</td>\n",
       "      <td>0.2773127329861039</td>\n",
       "      <td>0.1115</td>\n",
       "      <td>2.873</td>\n",
       "    </tr>\n",
       "    <tr>\n",
       "      <th>texture_se</th>\n",
       "      <td>569</td>\n",
       "      <td>1.2168534270650269</td>\n",
       "      <td>0.5516483926172022</td>\n",
       "      <td>0.3602</td>\n",
       "      <td>4.885</td>\n",
       "    </tr>\n",
       "    <tr>\n",
       "      <th>perimeter_se</th>\n",
       "      <td>569</td>\n",
       "      <td>2.8660592267135288</td>\n",
       "      <td>2.0218545540421085</td>\n",
       "      <td>0.757</td>\n",
       "      <td>21.98</td>\n",
       "    </tr>\n",
       "    <tr>\n",
       "      <th>area_se</th>\n",
       "      <td>569</td>\n",
       "      <td>40.33707908611603</td>\n",
       "      <td>45.49100551613178</td>\n",
       "      <td>6.802</td>\n",
       "      <td>542.2</td>\n",
       "    </tr>\n",
       "    <tr>\n",
       "      <th>smoothness_se</th>\n",
       "      <td>569</td>\n",
       "      <td>0.007040978910369071</td>\n",
       "      <td>0.003002517943839066</td>\n",
       "      <td>0.001713</td>\n",
       "      <td>0.03113</td>\n",
       "    </tr>\n",
       "    <tr>\n",
       "      <th>compactness_se</th>\n",
       "      <td>569</td>\n",
       "      <td>0.025478138840070306</td>\n",
       "      <td>0.01790817932567739</td>\n",
       "      <td>0.002252</td>\n",
       "      <td>0.1354</td>\n",
       "    </tr>\n",
       "    <tr>\n",
       "      <th>concavity_se</th>\n",
       "      <td>569</td>\n",
       "      <td>0.031893716344463946</td>\n",
       "      <td>0.030186060322988394</td>\n",
       "      <td>0.0</td>\n",
       "      <td>0.396</td>\n",
       "    </tr>\n",
       "    <tr>\n",
       "      <th>concave points_se</th>\n",
       "      <td>569</td>\n",
       "      <td>0.011796137082601056</td>\n",
       "      <td>0.006170285174046867</td>\n",
       "      <td>0.0</td>\n",
       "      <td>0.05279</td>\n",
       "    </tr>\n",
       "    <tr>\n",
       "      <th>symmetry_se</th>\n",
       "      <td>569</td>\n",
       "      <td>0.020542298769771532</td>\n",
       "      <td>0.008266371528798402</td>\n",
       "      <td>0.007882</td>\n",
       "      <td>0.07895</td>\n",
       "    </tr>\n",
       "    <tr>\n",
       "      <th>fractal_dimension_se</th>\n",
       "      <td>569</td>\n",
       "      <td>0.0037949038664323383</td>\n",
       "      <td>0.002646070967089195</td>\n",
       "      <td>8.948E-4</td>\n",
       "      <td>0.02984</td>\n",
       "    </tr>\n",
       "    <tr>\n",
       "      <th>radius_worst</th>\n",
       "      <td>569</td>\n",
       "      <td>16.269189806678394</td>\n",
       "      <td>4.833241580469323</td>\n",
       "      <td>7.93</td>\n",
       "      <td>36.04</td>\n",
       "    </tr>\n",
       "    <tr>\n",
       "      <th>texture_worst</th>\n",
       "      <td>569</td>\n",
       "      <td>25.677223198594014</td>\n",
       "      <td>6.1462576230383235</td>\n",
       "      <td>12.02</td>\n",
       "      <td>49.54</td>\n",
       "    </tr>\n",
       "    <tr>\n",
       "      <th>perimeter_worst</th>\n",
       "      <td>569</td>\n",
       "      <td>107.2612126537786</td>\n",
       "      <td>33.602542269036356</td>\n",
       "      <td>50.41</td>\n",
       "      <td>251.2</td>\n",
       "    </tr>\n",
       "    <tr>\n",
       "      <th>area_worst</th>\n",
       "      <td>569</td>\n",
       "      <td>880.5831282952545</td>\n",
       "      <td>569.3569926699494</td>\n",
       "      <td>185.2</td>\n",
       "      <td>4254.0</td>\n",
       "    </tr>\n",
       "    <tr>\n",
       "      <th>smoothness_worst</th>\n",
       "      <td>569</td>\n",
       "      <td>0.13236859402460469</td>\n",
       "      <td>0.022832429404835465</td>\n",
       "      <td>0.07117</td>\n",
       "      <td>0.2226</td>\n",
       "    </tr>\n",
       "    <tr>\n",
       "      <th>compactness_worst</th>\n",
       "      <td>569</td>\n",
       "      <td>0.25426504393673144</td>\n",
       "      <td>0.157336488913742</td>\n",
       "      <td>0.02729</td>\n",
       "      <td>1.058</td>\n",
       "    </tr>\n",
       "    <tr>\n",
       "      <th>concavity_worst</th>\n",
       "      <td>569</td>\n",
       "      <td>0.27218848330404205</td>\n",
       "      <td>0.20862428060813235</td>\n",
       "      <td>0.0</td>\n",
       "      <td>1.252</td>\n",
       "    </tr>\n",
       "    <tr>\n",
       "      <th>concave points_worst</th>\n",
       "      <td>569</td>\n",
       "      <td>0.11460622319859404</td>\n",
       "      <td>0.06573234119594208</td>\n",
       "      <td>0.0</td>\n",
       "      <td>0.291</td>\n",
       "    </tr>\n",
       "    <tr>\n",
       "      <th>symmetry_worst</th>\n",
       "      <td>569</td>\n",
       "      <td>0.29007557117750454</td>\n",
       "      <td>0.06186746753751871</td>\n",
       "      <td>0.1565</td>\n",
       "      <td>0.6638</td>\n",
       "    </tr>\n",
       "    <tr>\n",
       "      <th>fractal_dimension_worst</th>\n",
       "      <td>569</td>\n",
       "      <td>0.08394581722319855</td>\n",
       "      <td>0.01806126734889399</td>\n",
       "      <td>0.05504</td>\n",
       "      <td>0.2075</td>\n",
       "    </tr>\n",
       "    <tr>\n",
       "      <th>_c32</th>\n",
       "      <td>0</td>\n",
       "      <td>None</td>\n",
       "      <td>None</td>\n",
       "      <td>None</td>\n",
       "      <td>None</td>\n",
       "    </tr>\n",
       "  </tbody>\n",
       "</table>\n",
       "</div>"
      ],
      "text/plain": [
       "                             0                      1                     2  \\\n",
       "summary                  count                   mean                stddev   \n",
       "id                         569   3.0371831432337433E7  1.2502058561222367E8   \n",
       "diagnosis                  569                   None                  None   \n",
       "radius_mean                569     14.127291739894563    3.5240488262120793   \n",
       "texture_mean               569      19.28964850615117     4.301035768166948   \n",
       "perimeter_mean             569      91.96903339191566      24.2989810387549   \n",
       "area_mean                  569      654.8891036906857     351.9141291816529   \n",
       "smoothness_mean            569      0.096360281195079  0.014064128137673616   \n",
       "compactness_mean           569    0.10434098418277686    0.0528127579325122   \n",
       "concavity_mean             569    0.08879931581722322   0.07971980870789354   \n",
       "concave points_mean        569   0.048919145869947236   0.03880284485915361   \n",
       "symmetry_mean              569      0.181161862917399  0.027414281336035712   \n",
       "fractal_dimension_mean     569    0.06279760984182778  0.007060362795084457   \n",
       "radius_se                  569     0.4051720562390161    0.2773127329861039   \n",
       "texture_se                 569     1.2168534270650269    0.5516483926172022   \n",
       "perimeter_se               569     2.8660592267135288    2.0218545540421085   \n",
       "area_se                    569      40.33707908611603     45.49100551613178   \n",
       "smoothness_se              569   0.007040978910369071  0.003002517943839066   \n",
       "compactness_se             569   0.025478138840070306   0.01790817932567739   \n",
       "concavity_se               569   0.031893716344463946  0.030186060322988394   \n",
       "concave points_se          569   0.011796137082601056  0.006170285174046867   \n",
       "symmetry_se                569   0.020542298769771532  0.008266371528798402   \n",
       "fractal_dimension_se       569  0.0037949038664323383  0.002646070967089195   \n",
       "radius_worst               569     16.269189806678394     4.833241580469323   \n",
       "texture_worst              569     25.677223198594014    6.1462576230383235   \n",
       "perimeter_worst            569      107.2612126537786    33.602542269036356   \n",
       "area_worst                 569      880.5831282952545     569.3569926699494   \n",
       "smoothness_worst           569    0.13236859402460469  0.022832429404835465   \n",
       "compactness_worst          569    0.25426504393673144     0.157336488913742   \n",
       "concavity_worst            569    0.27218848330404205   0.20862428060813235   \n",
       "concave points_worst       569    0.11460622319859404   0.06573234119594208   \n",
       "symmetry_worst             569    0.29007557117750454   0.06186746753751871   \n",
       "fractal_dimension_worst    569    0.08394581722319855   0.01806126734889399   \n",
       "_c32                         0                   None                  None   \n",
       "\n",
       "                                3          4  \n",
       "summary                       min        max  \n",
       "id                           8670  911320502  \n",
       "diagnosis                       B          M  \n",
       "radius_mean                 6.981      28.11  \n",
       "texture_mean                 9.71      39.28  \n",
       "perimeter_mean              43.79      188.5  \n",
       "area_mean                   143.5     2501.0  \n",
       "smoothness_mean           0.05263     0.1634  \n",
       "compactness_mean          0.01938     0.3454  \n",
       "concavity_mean                0.0     0.4268  \n",
       "concave points_mean           0.0     0.2012  \n",
       "symmetry_mean               0.106      0.304  \n",
       "fractal_dimension_mean    0.04996    0.09744  \n",
       "radius_se                  0.1115      2.873  \n",
       "texture_se                 0.3602      4.885  \n",
       "perimeter_se                0.757      21.98  \n",
       "area_se                     6.802      542.2  \n",
       "smoothness_se            0.001713    0.03113  \n",
       "compactness_se           0.002252     0.1354  \n",
       "concavity_se                  0.0      0.396  \n",
       "concave points_se             0.0    0.05279  \n",
       "symmetry_se              0.007882    0.07895  \n",
       "fractal_dimension_se     8.948E-4    0.02984  \n",
       "radius_worst                 7.93      36.04  \n",
       "texture_worst               12.02      49.54  \n",
       "perimeter_worst             50.41      251.2  \n",
       "area_worst                  185.2     4254.0  \n",
       "smoothness_worst          0.07117     0.2226  \n",
       "compactness_worst         0.02729      1.058  \n",
       "concavity_worst               0.0      1.252  \n",
       "concave points_worst          0.0      0.291  \n",
       "symmetry_worst             0.1565     0.6638  \n",
       "fractal_dimension_worst   0.05504     0.2075  \n",
       "_c32                         None       None  "
      ]
     },
     "execution_count": 7,
     "metadata": {},
     "output_type": "execute_result"
    }
   ],
   "source": [
    "#Quick data overview - no NaNs!\n",
    "cancer_df.describe().toPandas().T"
   ]
  },
  {
   "cell_type": "markdown",
   "metadata": {},
   "source": [
    "### Preprocessing"
   ]
  },
  {
   "cell_type": "code",
   "execution_count": 8,
   "metadata": {},
   "outputs": [],
   "source": [
    "#Get rid of some columns we don't need\n",
    "def fix_df(df):\n",
    "    return df.drop('id') \\\n",
    "    .drop('_c32')\n",
    "cancer_df_fixed = fix_df(cancer_df)"
   ]
  },
  {
   "cell_type": "code",
   "execution_count": 9,
   "metadata": {},
   "outputs": [
    {
     "data": {
      "text/plain": [
       "DataFrame[diagnosis: string, radius_mean: double, texture_mean: double, perimeter_mean: double, area_mean: double, smoothness_mean: double, compactness_mean: double, concavity_mean: double, concave points_mean: double, symmetry_mean: double, fractal_dimension_mean: double, radius_se: double, texture_se: double, perimeter_se: double, area_se: double, smoothness_se: double, compactness_se: double, concavity_se: double, concave points_se: double, symmetry_se: double, fractal_dimension_se: double, radius_worst: double, texture_worst: double, perimeter_worst: double, area_worst: double, smoothness_worst: double, compactness_worst: double, concavity_worst: double, concave points_worst: double, symmetry_worst: double, fractal_dimension_worst: double]"
      ]
     },
     "execution_count": 9,
     "metadata": {},
     "output_type": "execute_result"
    }
   ],
   "source": [
    "(trainingData, testData) = cancer_df_fixed.randomSplit([0.75, 0.25])\n",
    "trainingData.cache()\n",
    "testData.cache()"
   ]
  },
  {
   "cell_type": "markdown",
   "metadata": {},
   "source": [
    "### Pipeline"
   ]
  },
  {
   "cell_type": "code",
   "execution_count": 10,
   "metadata": {},
   "outputs": [],
   "source": [
    "from pyspark.ml import Pipeline\n",
    "from pyspark.ml.feature import StringIndexer, VectorAssembler, IndexToString\n",
    "from pyspark.ml.classification import RandomForestClassifier"
   ]
  },
  {
   "cell_type": "code",
   "execution_count": 11,
   "metadata": {},
   "outputs": [],
   "source": [
    "stages = []\n",
    "#Index M/B to 1/0: Malignant becomes 1, Benign becomes 0\n",
    "indexer = StringIndexer(inputCol='diagnosis', outputCol='label')\n",
    "labels = indexer.fit(cancer_df_fixed).labels\n",
    "\n",
    "#Assemble other columns into a single feature column\n",
    "assembler_input = [name for name in cancer_df_fixed.schema.names if not name == 'diagnosis' or name == 'label']\n",
    "assembler = VectorAssembler(inputCols=assembler_input, outputCol='features')\n",
    "\n",
    "#Random Forest - leave everything default, we'll do cross-validation with a param grid anyway\n",
    "ranfor = RandomForestClassifier(featuresCol='features', labelCol='label')\n",
    "\n",
    "#Reset labels to M/B\n",
    "label_converter = IndexToString(inputCol='prediction', outputCol='predictedLabel', labels=labels)\n",
    "\n",
    "#Bring it all together\n",
    "pipeline = Pipeline(stages=[indexer, assembler, ranfor, label_converter])"
   ]
  },
  {
   "cell_type": "markdown",
   "metadata": {},
   "source": [
    "### Hyper-parameter Tuning and Fitting"
   ]
  },
  {
   "cell_type": "code",
   "execution_count": 12,
   "metadata": {},
   "outputs": [],
   "source": [
    "from pyspark.ml.evaluation import BinaryClassificationEvaluator\n",
    "from pyspark.ml.tuning import CrossValidator, ParamGridBuilder\n"
   ]
  },
  {
   "cell_type": "code",
   "execution_count": 13,
   "metadata": {},
   "outputs": [],
   "source": [
    "param_grid = (ParamGridBuilder()\n",
    "            .addGrid(ranfor.maxDepth, [2, 5, 10, 15])\n",
    "            .addGrid(ranfor.maxBins, [8, 16, 32, 48])\n",
    "            .addGrid(ranfor.numTrees, [10, 15, 20, 25])\n",
    "            .build())"
   ]
  },
  {
   "cell_type": "code",
   "execution_count": 14,
   "metadata": {},
   "outputs": [],
   "source": [
    "cv = CrossValidator(estimator=pipeline, estimatorParamMaps=param_grid, evaluator=BinaryClassificationEvaluator(), numFolds=5)"
   ]
  },
  {
   "cell_type": "code",
   "execution_count": 15,
   "metadata": {},
   "outputs": [],
   "source": [
    "#Don't run this too often - for obvious reasons it's quite slow. \n",
    "model = cv.fit(trainingData)"
   ]
  },
  {
   "cell_type": "markdown",
   "metadata": {},
   "source": [
    "### Results and evaluation"
   ]
  },
  {
   "cell_type": "code",
   "execution_count": 16,
   "metadata": {},
   "outputs": [],
   "source": [
    "from pyspark.ml.evaluation import MulticlassClassificationEvaluator"
   ]
  },
  {
   "cell_type": "code",
   "execution_count": 17,
   "metadata": {},
   "outputs": [],
   "source": [
    "#Get our predictions\n",
    "predictions = model.transform(testData)"
   ]
  },
  {
   "cell_type": "code",
   "execution_count": 18,
   "metadata": {},
   "outputs": [],
   "source": [
    "#Instantiate\n",
    "roc_evaluator = BinaryClassificationEvaluator(rawPredictionCol=\"rawPrediction\")\n",
    "f1 = MulticlassClassificationEvaluator(predictionCol='prediction', labelCol='label', metricName='f1')\n",
    "accuracy = MulticlassClassificationEvaluator(predictionCol='prediction', labelCol='label', metricName='accuracy')\n",
    "recall = MulticlassClassificationEvaluator(predictionCol='prediction', labelCol='label', metricName='weightedRecall')"
   ]
  },
  {
   "cell_type": "code",
   "execution_count": 19,
   "metadata": {},
   "outputs": [
    {
     "name": "stdout",
     "output_type": "stream",
     "text": [
      "Max Depth:  10\n",
      "Max Bins:  8\n",
      "Number of Trees:  25\n"
     ]
    }
   ],
   "source": [
    "#Cross-Validation results\n",
    "print('Max Depth: ', model.bestModel.stages[2]._java_obj.parent().getMaxDepth())\n",
    "print('Max Bins: ', model.bestModel.stages[2]._java_obj.parent().getMaxBins())\n",
    "print('Number of Trees: ', model.bestModel.stages[2]._java_obj.parent().getNumTrees())"
   ]
  },
  {
   "cell_type": "code",
   "execution_count": 20,
   "metadata": {},
   "outputs": [
    {
     "name": "stdout",
     "output_type": "stream",
     "text": [
      "Accuracy on test set: 0.950\n",
      "Area under ROC: 0.996\n",
      "Weighted Recall: 0.950\n",
      "F1-metric: 0.950\n"
     ]
    }
   ],
   "source": [
    "#Evaluate the model itself\n",
    "print(\"Accuracy on test set: {:.3f}\".format(accuracy.evaluate(predictions)))\n",
    "print(\"Area under ROC: {:.3f}\".format(roc_evaluator.evaluate(predictions)))\n",
    "print(\"Weighted Recall: {:.3f}\".format(recall.evaluate(predictions)))\n",
    "print(\"F1-metric: {:.3f}\".format(f1.evaluate(predictions)))"
   ]
  },
  {
   "cell_type": "code",
   "execution_count": 21,
   "metadata": {
    "scrolled": true
   },
   "outputs": [
    {
     "name": "stdout",
     "output_type": "stream",
     "text": [
      "+---------+--------------+-----+\n",
      "|diagnosis|predictedLabel|count|\n",
      "+---------+--------------+-----+\n",
      "|        B|             M|    2|\n",
      "|        M|             B|    5|\n",
      "|        M|             M|   50|\n",
      "|        B|             B|   84|\n",
      "+---------+--------------+-----+\n",
      "\n"
     ]
    }
   ],
   "source": [
    "#Obviously, those metrics are great. Still, let's specify.\n",
    "#Split by group: How many diagnoses did we miss? \n",
    "predictions.groupBy('diagnosis','predictedLabel').count().show()"
   ]
  },
  {
   "cell_type": "markdown",
   "metadata": {},
   "source": [
    "Most relevant here is the recall (the part of the total amount of malignant tumors that was discovered by the model), which, at 0.95, is very high. In the test set, out of a total of 55 malignant tumors, 5 were \"missed\". Of course, the false positives (2) are also unwanted, but are not *as* bad als false negatives, in this specific case.\n",
    "\n",
    "The F1-score (0.95) and the area under the ROC-curve (0.996) further support the notion that we've established a high quality model. "
   ]
  }
 ],
 "metadata": {
  "kernelspec": {
   "display_name": "Python [default]",
   "language": "python",
   "name": "python3"
  },
  "language_info": {
   "codemirror_mode": {
    "name": "ipython",
    "version": 3
   },
   "file_extension": ".py",
   "mimetype": "text/x-python",
   "name": "python",
   "nbconvert_exporter": "python",
   "pygments_lexer": "ipython3",
   "version": "3.6.5"
  }
 },
 "nbformat": 4,
 "nbformat_minor": 2
}
